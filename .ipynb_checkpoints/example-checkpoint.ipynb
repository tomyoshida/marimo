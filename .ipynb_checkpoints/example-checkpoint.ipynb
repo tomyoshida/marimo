{
 "cells": [
  {
   "cell_type": "markdown",
   "id": "62069ba7",
   "metadata": {},
   "source": [
    "# Basic usage of Marimo"
   ]
  },
  {
   "cell_type": "markdown",
   "id": "50b7d45c",
   "metadata": {},
   "source": [
    "`Marimo` is a Python package for calculation of molecular line emission from protoplanetary disks under the LTE conditions. The interface is designed as much as simple. Each velocity channel can be calculated in parallel, boosting the calculation speed. `Marimo` includes the visibility sampler `GALARIO` ([Tazzari et al., 2018, MNRAS 476 4527](https://academic.oup.com/mnras/article/476/4/4527/4867987?login=true)), which enables a direct comparison with the observed visibility and your disk models."
   ]
  },
  {
   "cell_type": "markdown",
   "id": "1b921462",
   "metadata": {},
   "source": [
    "## 1. Import modules and constants"
   ]
  },
  {
   "cell_type": "code",
   "execution_count": 1,
   "id": "26508828",
   "metadata": {},
   "outputs": [],
   "source": [
    "import numpy as np\n",
    "import matplotlib.pyplot as plt\n",
    "import astropy.constants as cst\n",
    "\n",
    "import sys\n",
    "sys.path.append('pass/to/marimo')\n",
    "import marimo\n",
    "\n",
    "au = cst.au.cgs.value\n",
    "M_sun = cst.M_sun.cgs.value"
   ]
  },
  {
   "cell_type": "markdown",
   "id": "f8da52d9",
   "metadata": {},
   "source": [
    "## 2. Set disk parameters"
   ]
  },
  {
   "cell_type": "markdown",
   "id": "a9179c9b",
   "metadata": {},
   "source": [
    "You can use a parametrized disk model. If you need, you can rewrite the model in `core.f90`. Some useful fanctions such as user-defined functions will be implemented soon. Non-parametrized models (ex. density/temperature grid from a chemical reaction network calculation) will be available in the near future."
   ]
  },
  {
   "cell_type": "code",
   "execution_count": 11,
   "id": "56bd49d9",
   "metadata": {},
   "outputs": [],
   "source": [
    "# normalization radius\n",
    "r0 = 5*au\n",
    "\n",
    "# disk inner radius\n",
    "rin = 0.01*au\n",
    "\n",
    "# disk outer radius\n",
    "rout = 40*au\n",
    "\n",
    "# disk exp radius\n",
    "rexp = 20*au\n",
    "\n",
    "# stellar mass\n",
    "M_star = 1.0 * M_sun\n",
    "\n",
    "# temperatures\n",
    "Tmid0 = 50.0\n",
    "pmid = 0.5\n",
    "Tatm0 = 100.0\n",
    "patm = 0.5\n",
    "\n",
    "# Surface densities\n",
    "Nco_0 = 1e21\n",
    "Nco_g = 1.0\n",
    "\n",
    "# CO/H2\n",
    "Xco = 1e-4"
   ]
  },
  {
   "cell_type": "markdown",
   "id": "8d881791",
   "metadata": {},
   "source": [
    "Your disk can be configured using `marimo.disk_config()`"
   ]
  },
  {
   "cell_type": "code",
   "execution_count": 12,
   "id": "a9dc77f2",
   "metadata": {},
   "outputs": [],
   "source": [
    "your_disk = marimo.disk_config(\n",
    "                    r0 = r0, \n",
    "                    rin = rin,\n",
    "                    rout = rout,\n",
    "                    rexp = rexp,\n",
    "                    Nco_0 = Nco_0, \n",
    "                    Nco_g = Nco_g,\n",
    "                    Tmid0 = Tmid0, \n",
    "                    pmid = pmid,\n",
    "                    Tatm0 = Tatm0,                    \n",
    "                    patm = patm, \n",
    "                    Xco = Xco,\n",
    "                    M_star = M_star)"
   ]
  },
  {
   "cell_type": "markdown",
   "id": "b586215d",
   "metadata": {},
   "source": [
    "## 3. Set calculation parameters"
   ]
  },
  {
   "cell_type": "markdown",
   "id": "718a4d29",
   "metadata": {},
   "source": [
    "Next, let's configure the calculation settings.\n",
    "\n",
    "In most cases, the physical quantities steeply change at the inner radius. To calculate both the inner and outer radii efficiently, you can set _sub-pixels_. Sub-pixels are calculated independently, and their resultant intensities are averaged over the parent pixel. The number of sub-pixels can be set in the following."
   ]
  },
  {
   "cell_type": "code",
   "execution_count": 13,
   "id": "15ab20ea",
   "metadata": {},
   "outputs": [],
   "source": [
    "# inclination\n",
    "incl = 30.0\n",
    "\n",
    "# P.A.\n",
    "pa = 150.0\n",
    "\n",
    "# distance from you in pc\n",
    "D = 120.0\n",
    "\n",
    "# calculation domain\n",
    "xmax = 50*au\n",
    "\n",
    "# Number of grid points in the X axis\n",
    "Nx = 128\n",
    "\n",
    "# Number of the sub-pixels at r0\n",
    "subpix_max = 32\n",
    "\n",
    "# power law index of the subpixelize\n",
    "subpix_pow = 0.5\n",
    "\n",
    "# velocity axis (unit: cm/s)\n",
    "V = np.linspace(-50, 50, 30)*1e5\n",
    "\n",
    "# Number of CPU threads that you want to use\n",
    "nthreads = 32\n",
    "\n",
    "your_calc = marimo.calc_config(\n",
    "                    line_files = ['pass/to/co.dat'],\n",
    "                    line_levels = [2], \n",
    "                    incl = incl,\n",
    "                    pa = pa,\n",
    "                    D = D,\n",
    "                    V = V, \n",
    "                    xmax = xmax,\n",
    "                    Nx = 128,\n",
    "                    subpix_max = 32,\n",
    "                    subpix_pow = 0.5,\n",
    "                    voigt = True,\n",
    "                    dust = True,\n",
    "                    contsub = True, \n",
    "                    nthreads = nthreads)"
   ]
  },
  {
   "cell_type": "markdown",
   "id": "c1fe0fe7",
   "metadata": {},
   "source": [
    "## 4. Run the calculation"
   ]
  },
  {
   "cell_type": "code",
   "execution_count": 14,
   "id": "9587d23a",
   "metadata": {},
   "outputs": [],
   "source": [
    "results = marimo.run(your_disk, your_calc)"
   ]
  },
  {
   "cell_type": "markdown",
   "id": "e23aca00",
   "metadata": {},
   "source": [
    "## 5. Show the results"
   ]
  },
  {
   "cell_type": "markdown",
   "id": "8eeedd87",
   "metadata": {},
   "source": [
    "### channel map"
   ]
  },
  {
   "cell_type": "code",
   "execution_count": 18,
   "id": "8cdbe854",
   "metadata": {},
   "outputs": [
    {
     "data": {
      "image/png": "[encoded data removed]",
      "text/plain": [
       "<Figure size 432x288 with 2 Axes>"
      ]
     },
     "metadata": {
      "needs_background": "light"
     },
     "output_type": "display_data"
    }
   ],
   "source": [
    "nch = 15\n",
    "results.show_channelmap(0, nch, unit='jy/pix')"
   ]
  },
  {
   "cell_type": "markdown",
   "id": "eaa54a5e",
   "metadata": {},
   "source": [
    "### spectrum"
   ]
  },
  {
   "cell_type": "code",
   "execution_count": 20,
   "id": "ef3fbf32",
   "metadata": {},
   "outputs": [
    {
     "data": {
      "image/png": "[encoded data removed]",
      "text/plain": [
       "<Figure size 432x288 with 1 Axes>"
      ]
     },
     "metadata": {
      "needs_background": "light"
     },
     "output_type": "display_data"
    }
   ],
   "source": [
    "v, F = results.show_spectrum(0, scale='linear')"
   ]
  },
  {
   "cell_type": "markdown",
   "id": "ad2a4806",
   "metadata": {},
   "source": [
    "## 6. Sampling with observed (u, v) points"
   ]
  },
  {
   "cell_type": "code",
   "execution_count": 27,
   "id": "b1c64217",
   "metadata": {},
   "outputs": [],
   "source": [
    "# if the (u, v) are like this...\n",
    "\n",
    "nu0 = 230.538e9\n",
    "lam = 3e10/nu0 / 100\n",
    "bmin = 150 / lam\n",
    "bmax = 5000 / lam\n",
    "\n",
    "u = np.logspace(np.log10(bmin), np.log10(bmax), 100)\n",
    "v = u"
   ]
  },
  {
   "cell_type": "code",
   "execution_count": 28,
   "id": "0f6b051c",
   "metadata": {},
   "outputs": [],
   "source": [
    "vis = results.vis_cube(0, u, v)"
   ]
  },
  {
   "cell_type": "code",
   "execution_count": 31,
   "id": "1122ea6f",
   "metadata": {},
   "outputs": [
    {
     "data": {
      "text/plain": [
       "Text(0, 0.5, 'Jy')"
      ]
     },
     "execution_count": 31,
     "metadata": {},
     "output_type": "execute_result"
    },
    {
     "data": {
      "image/png": "[encoded data removed]",
      "text/plain": [
       "<Figure size 432x288 with 1 Axes>"
      ]
     },
     "metadata": {
      "needs_background": "light"
     },
     "output_type": "display_data"
    }
   ],
   "source": [
    "nch = 15\n",
    "plt.scatter( np.sqrt(u**2 + v**2)/1e3, vis[nch].real)\n",
    "plt.xscale('log')\n",
    "\n",
    "plt.xlabel('uv distance [klambda]')\n",
    "plt.ylabel('Jy')"
   ]
  },
  {
   "cell_type": "code",
   "execution_count": null,
   "id": "46a388cb",
   "metadata": {},
   "outputs": [],
   "source": []
  }
 ],
 "metadata": {
  "kernelspec": {
   "display_name": "casa6",
   "language": "python",
   "name": "casa6"
  },
  "language_info": {
   "codemirror_mode": {
    "name": "ipython",
    "version": 3
   },
   "file_extension": ".py",
   "mimetype": "text/x-python",
   "name": "python",
   "nbconvert_exporter": "python",
   "pygments_lexer": "ipython3",
   "version": "3.6.9"
  }
 },
 "nbformat": 4,
 "nbformat_minor": 5
}
